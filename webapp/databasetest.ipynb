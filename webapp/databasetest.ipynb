{
 "cells": [
  {
   "cell_type": "code",
   "execution_count": 28,
   "metadata": {},
   "outputs": [],
   "source": [
    "import boto3\n",
    "import boto3.dynamodb\n",
    "import streamlit as st\n",
    "import pandas as pd\n",
    "from functools import reduce   # Only in Python 3, omit this in Python 2.x\n",
    "from decimal import *\n",
    "import plotly.express as px  # interactive charts\n",
    "import plotly\n",
    "from datetime import datetime\n",
    "import plotly.graph_objs as go\n"
   ]
  },
  {
   "cell_type": "code",
   "execution_count": 34,
   "metadata": {},
   "outputs": [],
   "source": [
    "#setup database access\n",
    "ddb = boto3.resource('dynamodb')\n",
    "\n",
    "table = ddb.Table('esp32c6_data')\n",
    "\n",
    "#accessing table contents\n",
    "response = table.scan(\n",
    "    AttributesToGet=[\n",
    "        'time',\n",
    "        'data',\n",
    "    ],\n",
    "    # Limit=10,\n",
    ")\n"
   ]
  },
  {
   "cell_type": "code",
   "execution_count": null,
   "metadata": {},
   "outputs": [],
   "source": []
  },
  {
   "cell_type": "code",
   "execution_count": 35,
   "metadata": {},
   "outputs": [
    {
     "data": {
      "text/plain": [
       "{'Items': [{'time': Decimal('1713255080745'),\n",
       "   'data': {'pump_activated': Decimal('0'), 'humidity': Decimal('68')}},\n",
       "  {'time': Decimal('1713255707162'),\n",
       "   'data': {'pump_activated': Decimal('0'), 'humidity': Decimal('68')}},\n",
       "  {'time': Decimal('1713169088509'),\n",
       "   'data': {'pump_activated': Decimal('1'), 'humidity': Decimal('89')}},\n",
       "  {'time': Decimal('1713255682198'),\n",
       "   'data': {'pump_activated': Decimal('0'), 'humidity': Decimal('67')}},\n",
       "  {'time': Decimal('1713169144727'),\n",
       "   'data': {'pump_activated': Decimal('1'), 'humidity': Decimal('89')}},\n",
       "  {'time': Decimal('1713169131978'),\n",
       "   'data': {'pump_activated': Decimal('1'), 'humidity': Decimal('89')}},\n",
       "  {'time': Decimal('1713169306113'),\n",
       "   'data': {'pump_activated': Decimal('1'), 'humidity': Decimal('89')}},\n",
       "  {'time': Decimal('1713255863965'),\n",
       "   'data': {'pump_activated': Decimal('0'), 'humidity': Decimal('70')}},\n",
       "  {'time': Decimal('1713255870112'),\n",
       "   'data': {'pump_activated': Decimal('0'), 'humidity': Decimal('70')}},\n",
       "  {'time': Decimal('1713169106801'),\n",
       "   'data': {'pump_activated': Decimal('1'), 'humidity': Decimal('89')}},\n",
       "  {'time': Decimal('1713254839646'),\n",
       "   'data': {'pump_activated': Decimal('0'), 'humidity': Decimal('70')}},\n",
       "  {'time': Decimal('1713169125795'),\n",
       "   'data': {'pump_activated': Decimal('1'), 'humidity': Decimal('89')}},\n",
       "  {'time': Decimal('1713255911585'),\n",
       "   'data': {'pump_activated': Decimal('0'), 'humidity': Decimal('70')}},\n",
       "  {'time': Decimal('1713254827390'),\n",
       "   'data': {'pump_activated': Decimal('0'), 'humidity': Decimal('70')}},\n",
       "  {'time': Decimal('1713169325325'),\n",
       "   'data': {'pump_activated': Decimal('1'), 'humidity': Decimal('89')}},\n",
       "  {'time': Decimal('1713168173112'),\n",
       "   'data': {'pump_activated': Decimal('1'), 'humidity': Decimal('89')}},\n",
       "  {'time': Decimal('1713169151107'),\n",
       "   'data': {'pump_activated': Decimal('1'), 'humidity': Decimal('89')}},\n",
       "  {'time': Decimal('1713169094602'),\n",
       "   'data': {'pump_activated': Decimal('1'), 'humidity': Decimal('89')}},\n",
       "  {'time': Decimal('1713169331711'),\n",
       "   'data': {'pump_activated': Decimal('1'), 'humidity': Decimal('89')}},\n",
       "  {'time': Decimal('1713169287640'),\n",
       "   'data': {'pump_activated': Decimal('1'), 'humidity': Decimal('89')}},\n",
       "  {'time': Decimal('1713169100703'),\n",
       "   'data': {'pump_activated': Decimal('1'), 'humidity': Decimal('89')}},\n",
       "  {'time': Decimal('1713169293754'),\n",
       "   'data': {'pump_activated': Decimal('1'), 'humidity': Decimal('89')}},\n",
       "  {'time': Decimal('1713169590067'),\n",
       "   'data': {'pump_activated': Decimal('1'), 'humidity': Decimal('89')}},\n",
       "  {'time': Decimal('1713254845881'),\n",
       "   'data': {'pump_activated': Decimal('1'), 'humidity': Decimal('71')}},\n",
       "  {'time': Decimal('1713197790535'),\n",
       "   'data': {'pump_activated': Decimal('1'), 'humidity': Decimal('89')}},\n",
       "  {'time': Decimal('1713254833515'),\n",
       "   'data': {'pump_activated': Decimal('0'), 'humidity': Decimal('69')}},\n",
       "  {'time': Decimal('1713255700681'),\n",
       "   'data': {'pump_activated': Decimal('0'), 'humidity': Decimal('69')}},\n",
       "  {'time': Decimal('1713169138403'),\n",
       "   'data': {'pump_activated': Decimal('1'), 'humidity': Decimal('89')}},\n",
       "  {'time': Decimal('1713255924363'),\n",
       "   'data': {'pump_activated': Decimal('1'), 'humidity': Decimal('71')}},\n",
       "  {'time': Decimal('1713169602485'),\n",
       "   'data': {'pump_activated': Decimal('1'), 'humidity': Decimal('89')}},\n",
       "  {'time': Decimal('1713169299867'),\n",
       "   'data': {'pump_activated': Decimal('1'), 'humidity': Decimal('89')}},\n",
       "  {'time': Decimal('1713197801491'),\n",
       "   'data': {'pump_activated': Decimal('1'), 'humidity': Decimal('89')}},\n",
       "  {'time': Decimal('1713169281539'),\n",
       "   'data': {'pump_activated': Decimal('1'), 'humidity': Decimal('89')}},\n",
       "  {'time': Decimal('1713254821215'),\n",
       "   'data': {'pump_activated': Decimal('0'), 'humidity': Decimal('69')}},\n",
       "  {'time': Decimal('1713169319016'),\n",
       "   'data': {'pump_activated': Decimal('1'), 'humidity': Decimal('89')}},\n",
       "  {'time': Decimal('1713255917508'),\n",
       "   'data': {'pump_activated': Decimal('0'), 'humidity': Decimal('70')}},\n",
       "  {'time': Decimal('1713255882710'),\n",
       "   'data': {'pump_activated': Decimal('0'), 'humidity': Decimal('70')}},\n",
       "  {'time': Decimal('1713255694531'),\n",
       "   'data': {'pump_activated': Decimal('0'), 'humidity': Decimal('69')}},\n",
       "  {'time': Decimal('1713255688385'),\n",
       "   'data': {'pump_activated': Decimal('0'), 'humidity': Decimal('68')}},\n",
       "  {'time': Decimal('1713255889588'),\n",
       "   'data': {'pump_activated': Decimal('1'), 'humidity': Decimal('71')}},\n",
       "  {'time': Decimal('1713169112987'),\n",
       "   'data': {'pump_activated': Decimal('1'), 'humidity': Decimal('89')}},\n",
       "  {'time': Decimal('1713255074578'),\n",
       "   'data': {'pump_activated': Decimal('0'), 'humidity': Decimal('67')}},\n",
       "  {'time': Decimal('1713168167018'),\n",
       "   'data': {'pump_activated': Decimal('1'), 'humidity': Decimal('89')}},\n",
       "  {'time': Decimal('1713169596257'),\n",
       "   'data': {'pump_activated': Decimal('1'), 'humidity': Decimal('89')}},\n",
       "  {'time': Decimal('1713255876245'),\n",
       "   'data': {'pump_activated': Decimal('0'), 'humidity': Decimal('70')}}],\n",
       " 'Count': 45,\n",
       " 'ScannedCount': 45,\n",
       " 'ResponseMetadata': {'RequestId': '03OQSBAVL2EN16V92CDN507ASJVV4KQNSO5AEMVJF66Q9ASUAAJG',\n",
       "  'HTTPStatusCode': 200,\n",
       "  'HTTPHeaders': {'server': 'Server',\n",
       "   'date': 'Tue, 16 Apr 2024 08:42:01 GMT',\n",
       "   'content-type': 'application/x-amz-json-1.0',\n",
       "   'content-length': '4315',\n",
       "   'connection': 'keep-alive',\n",
       "   'x-amzn-requestid': '03OQSBAVL2EN16V92CDN507ASJVV4KQNSO5AEMVJF66Q9ASUAAJG',\n",
       "   'x-amz-crc32': '2246581122'},\n",
       "  'RetryAttempts': 0}}"
      ]
     },
     "execution_count": 35,
     "metadata": {},
     "output_type": "execute_result"
    }
   ],
   "source": [
    "response"
   ]
  },
  {
   "cell_type": "code",
   "execution_count": 36,
   "metadata": {},
   "outputs": [
    {
     "name": "stdout",
     "output_type": "stream",
     "text": [
      "2024-04-16 16:11:20\n",
      "2024-04-16 16:21:47\n",
      "2024-04-15 16:18:08\n",
      "2024-04-16 16:21:22\n",
      "2024-04-15 16:19:04\n",
      "2024-04-15 16:18:51\n",
      "2024-04-15 16:21:46\n",
      "2024-04-16 16:24:23\n",
      "2024-04-16 16:24:30\n",
      "2024-04-15 16:18:26\n",
      "2024-04-16 16:07:19\n",
      "2024-04-15 16:18:45\n",
      "2024-04-16 16:25:11\n",
      "2024-04-16 16:07:07\n",
      "2024-04-15 16:22:05\n",
      "2024-04-15 16:02:53\n",
      "2024-04-15 16:19:11\n",
      "2024-04-15 16:18:14\n",
      "2024-04-15 16:22:11\n",
      "2024-04-15 16:21:27\n",
      "2024-04-15 16:18:20\n",
      "2024-04-15 16:21:33\n",
      "2024-04-15 16:26:30\n",
      "2024-04-16 16:07:25\n",
      "2024-04-16 00:16:30\n",
      "2024-04-16 16:07:13\n",
      "2024-04-16 16:21:40\n",
      "2024-04-15 16:18:58\n",
      "2024-04-16 16:25:24\n",
      "2024-04-15 16:26:42\n",
      "2024-04-15 16:21:39\n",
      "2024-04-16 00:16:41\n",
      "2024-04-15 16:21:21\n",
      "2024-04-16 16:07:01\n",
      "2024-04-15 16:21:59\n",
      "2024-04-16 16:25:17\n",
      "2024-04-16 16:24:42\n",
      "2024-04-16 16:21:34\n",
      "2024-04-16 16:21:28\n",
      "2024-04-16 16:24:49\n",
      "2024-04-15 16:18:32\n",
      "2024-04-16 16:11:14\n",
      "2024-04-15 16:02:47\n",
      "2024-04-15 16:26:36\n",
      "2024-04-16 16:24:36\n"
     ]
    }
   ],
   "source": [
    "pump_activation = {}\n",
    "humidity_levels = {}\n",
    "\n",
    "for iter, result in enumerate(response['Items']):\n",
    "    epoch = int(result['time']/1000)\n",
    "    date_iter = datetime.fromtimestamp(epoch)\n",
    "    print(date_iter)\n",
    "    pump_activation[date_iter] = reduce(lambda rst, x: rst * 10 + x, result['data']['pump_activated'].as_tuple().digits)\n",
    "    humidity_levels[date_iter] = reduce(lambda rst, x: rst * 10 + x, result['data']['humidity'].as_tuple().digits)\n"
   ]
  },
  {
   "cell_type": "code",
   "execution_count": 37,
   "metadata": {},
   "outputs": [],
   "source": [
    "pump_pd = pd.DataFrame(list(pump_activation.items()), columns=['date', 'pump activated'])\n",
    "humidity_pd = pd.DataFrame(list(humidity_levels.items()), columns=['date', 'humidity'])\n"
   ]
  },
  {
   "cell_type": "code",
   "execution_count": 44,
   "metadata": {},
   "outputs": [
    {
     "data": {
      "application/vnd.plotly.v1+json": {
       "config": {
        "plotlyServerURL": "https://plot.ly"
       },
       "data": [
        {
         "hovertemplate": "date=%{x}<br>pump activated=%{y}<extra></extra>",
         "legendgroup": "",
         "marker": {
          "color": "#000001",
          "symbol": "circle"
         },
         "mode": "markers",
         "name": "",
         "orientation": "v",
         "showlegend": false,
         "type": "scatter",
         "x": [
          "2024-04-16T16:11:20",
          "2024-04-16T16:21:47",
          "2024-04-15T16:18:08",
          "2024-04-16T16:21:22",
          "2024-04-15T16:19:04",
          "2024-04-15T16:18:51",
          "2024-04-15T16:21:46",
          "2024-04-16T16:24:23",
          "2024-04-16T16:24:30",
          "2024-04-15T16:18:26",
          "2024-04-16T16:07:19",
          "2024-04-15T16:18:45",
          "2024-04-16T16:25:11",
          "2024-04-16T16:07:07",
          "2024-04-15T16:22:05",
          "2024-04-15T16:02:53",
          "2024-04-15T16:19:11",
          "2024-04-15T16:18:14",
          "2024-04-15T16:22:11",
          "2024-04-15T16:21:27",
          "2024-04-15T16:18:20",
          "2024-04-15T16:21:33",
          "2024-04-15T16:26:30",
          "2024-04-16T16:07:25",
          "2024-04-16T00:16:30",
          "2024-04-16T16:07:13",
          "2024-04-16T16:21:40",
          "2024-04-15T16:18:58",
          "2024-04-16T16:25:24",
          "2024-04-15T16:26:42",
          "2024-04-15T16:21:39",
          "2024-04-16T00:16:41",
          "2024-04-15T16:21:21",
          "2024-04-16T16:07:01",
          "2024-04-15T16:21:59",
          "2024-04-16T16:25:17",
          "2024-04-16T16:24:42",
          "2024-04-16T16:21:34",
          "2024-04-16T16:21:28",
          "2024-04-16T16:24:49",
          "2024-04-15T16:18:32",
          "2024-04-16T16:11:14",
          "2024-04-15T16:02:47",
          "2024-04-15T16:26:36",
          "2024-04-16T16:24:36"
         ],
         "xaxis": "x",
         "y": [
          0,
          0,
          1,
          0,
          1,
          1,
          1,
          0,
          0,
          1,
          0,
          1,
          0,
          0,
          1,
          1,
          1,
          1,
          1,
          1,
          1,
          1,
          1,
          1,
          1,
          0,
          0,
          1,
          1,
          1,
          1,
          1,
          1,
          0,
          1,
          0,
          0,
          0,
          0,
          1,
          1,
          0,
          1,
          1,
          0
         ],
         "yaxis": "y"
        }
       ],
       "layout": {
        "legend": {
         "tracegroupgap": 0
        },
        "margin": {
         "t": 60
        },
        "template": {
         "data": {
          "candlestick": [
           {
            "decreasing": {
             "line": {
              "color": "#000033"
             }
            },
            "increasing": {
             "line": {
              "color": "#000032"
             }
            },
            "type": "candlestick"
           }
          ],
          "contour": [
           {
            "colorscale": [
             [
              0,
              "#000011"
             ],
             [
              0.1111111111111111,
              "#000012"
             ],
             [
              0.2222222222222222,
              "#000013"
             ],
             [
              0.3333333333333333,
              "#000014"
             ],
             [
              0.4444444444444444,
              "#000015"
             ],
             [
              0.5555555555555556,
              "#000016"
             ],
             [
              0.6666666666666666,
              "#000017"
             ],
             [
              0.7777777777777778,
              "#000018"
             ],
             [
              0.8888888888888888,
              "#000019"
             ],
             [
              1,
              "#000020"
             ]
            ],
            "type": "contour"
           }
          ],
          "contourcarpet": [
           {
            "colorscale": [
             [
              0,
              "#000011"
             ],
             [
              0.1111111111111111,
              "#000012"
             ],
             [
              0.2222222222222222,
              "#000013"
             ],
             [
              0.3333333333333333,
              "#000014"
             ],
             [
              0.4444444444444444,
              "#000015"
             ],
             [
              0.5555555555555556,
              "#000016"
             ],
             [
              0.6666666666666666,
              "#000017"
             ],
             [
              0.7777777777777778,
              "#000018"
             ],
             [
              0.8888888888888888,
              "#000019"
             ],
             [
              1,
              "#000020"
             ]
            ],
            "type": "contourcarpet"
           }
          ],
          "heatmap": [
           {
            "colorscale": [
             [
              0,
              "#000011"
             ],
             [
              0.1111111111111111,
              "#000012"
             ],
             [
              0.2222222222222222,
              "#000013"
             ],
             [
              0.3333333333333333,
              "#000014"
             ],
             [
              0.4444444444444444,
              "#000015"
             ],
             [
              0.5555555555555556,
              "#000016"
             ],
             [
              0.6666666666666666,
              "#000017"
             ],
             [
              0.7777777777777778,
              "#000018"
             ],
             [
              0.8888888888888888,
              "#000019"
             ],
             [
              1,
              "#000020"
             ]
            ],
            "type": "heatmap"
           }
          ],
          "histogram2d": [
           {
            "colorscale": [
             [
              0,
              "#000011"
             ],
             [
              0.1111111111111111,
              "#000012"
             ],
             [
              0.2222222222222222,
              "#000013"
             ],
             [
              0.3333333333333333,
              "#000014"
             ],
             [
              0.4444444444444444,
              "#000015"
             ],
             [
              0.5555555555555556,
              "#000016"
             ],
             [
              0.6666666666666666,
              "#000017"
             ],
             [
              0.7777777777777778,
              "#000018"
             ],
             [
              0.8888888888888888,
              "#000019"
             ],
             [
              1,
              "#000020"
             ]
            ],
            "type": "histogram2d"
           }
          ],
          "icicle": [
           {
            "textfont": {
             "color": "white"
            },
            "type": "icicle"
           }
          ],
          "sankey": [
           {
            "textfont": {
             "color": "#000036"
            },
            "type": "sankey"
           }
          ],
          "scatter": [
           {
            "marker": {
             "line": {
              "width": 0
             }
            },
            "type": "scatter"
           }
          ],
          "table": [
           {
            "cells": {
             "fill": {
              "color": "#000038"
             },
             "font": {
              "color": "#000037"
             },
             "line": {
              "color": "#000039"
             }
            },
            "header": {
             "fill": {
              "color": "#000040"
             },
             "font": {
              "color": "#000036"
             },
             "line": {
              "color": "#000039"
             }
            },
            "type": "table"
           }
          ],
          "waterfall": [
           {
            "connector": {
             "line": {
              "color": "#000036",
              "width": 2
             }
            },
            "decreasing": {
             "marker": {
              "color": "#000033"
             }
            },
            "increasing": {
             "marker": {
              "color": "#000032"
             }
            },
            "totals": {
             "marker": {
              "color": "#000034"
             }
            },
            "type": "waterfall"
           }
          ]
         },
         "layout": {
          "coloraxis": {
           "colorscale": [
            [
             0,
             "#000011"
            ],
            [
             0.1111111111111111,
             "#000012"
            ],
            [
             0.2222222222222222,
             "#000013"
            ],
            [
             0.3333333333333333,
             "#000014"
            ],
            [
             0.4444444444444444,
             "#000015"
            ],
            [
             0.5555555555555556,
             "#000016"
            ],
            [
             0.6666666666666666,
             "#000017"
            ],
            [
             0.7777777777777778,
             "#000018"
            ],
            [
             0.8888888888888888,
             "#000019"
            ],
            [
             1,
             "#000020"
            ]
           ]
          },
          "colorscale": {
           "diverging": [
            [
             0,
             "#000021"
            ],
            [
             0.1,
             "#000022"
            ],
            [
             0.2,
             "#000023"
            ],
            [
             0.3,
             "#000024"
            ],
            [
             0.4,
             "#000025"
            ],
            [
             0.5,
             "#000026"
            ],
            [
             0.6,
             "#000027"
            ],
            [
             0.7,
             "#000028"
            ],
            [
             0.8,
             "#000029"
            ],
            [
             0.9,
             "#000030"
            ],
            [
             1,
             "#000031"
            ]
           ],
           "sequential": [
            [
             0,
             "#000011"
            ],
            [
             0.1111111111111111,
             "#000012"
            ],
            [
             0.2222222222222222,
             "#000013"
            ],
            [
             0.3333333333333333,
             "#000014"
            ],
            [
             0.4444444444444444,
             "#000015"
            ],
            [
             0.5555555555555556,
             "#000016"
            ],
            [
             0.6666666666666666,
             "#000017"
            ],
            [
             0.7777777777777778,
             "#000018"
            ],
            [
             0.8888888888888888,
             "#000019"
            ],
            [
             1,
             "#000020"
            ]
           ],
           "sequentialminus": [
            [
             0,
             "#000011"
            ],
            [
             0.1111111111111111,
             "#000012"
            ],
            [
             0.2222222222222222,
             "#000013"
            ],
            [
             0.3333333333333333,
             "#000014"
            ],
            [
             0.4444444444444444,
             "#000015"
            ],
            [
             0.5555555555555556,
             "#000016"
            ],
            [
             0.6666666666666666,
             "#000017"
            ],
            [
             0.7777777777777778,
             "#000018"
            ],
            [
             0.8888888888888888,
             "#000019"
            ],
            [
             1,
             "#000020"
            ]
           ]
          },
          "colorway": [
           "#000001",
           "#000002",
           "#000003",
           "#000004",
           "#000005",
           "#000006",
           "#000007",
           "#000008",
           "#000009",
           "#000010"
          ]
         }
        },
        "xaxis": {
         "anchor": "y",
         "domain": [
          0,
          1
         ],
         "title": {
          "text": "date"
         }
        },
        "yaxis": {
         "anchor": "x",
         "domain": [
          0,
          1
         ],
         "title": {
          "text": "pump activated"
         }
        }
       }
      }
     },
     "metadata": {},
     "output_type": "display_data"
    }
   ],
   "source": [
    "fig = px.scatter(\n",
    "                data_frame=pump_pd, y=\"pump activated\", x=\"date\"\n",
    ")\n",
    "fig.show()"
   ]
  },
  {
   "cell_type": "code",
   "execution_count": 45,
   "metadata": {},
   "outputs": [],
   "source": [
    "df = humidity_pd.sort_values(by='date', ascending=True,inplace=True)\n"
   ]
  },
  {
   "cell_type": "code",
   "execution_count": 47,
   "metadata": {},
   "outputs": [
    {
     "data": {
      "application/vnd.plotly.v1+json": {
       "config": {
        "plotlyServerURL": "https://plot.ly"
       },
       "data": [
        {
         "hovertemplate": "date=%{x}<br>humidity=%{y}<extra></extra>",
         "legendgroup": "",
         "line": {
          "color": "#000001",
          "dash": "solid"
         },
         "marker": {
          "symbol": "circle"
         },
         "mode": "lines",
         "name": "",
         "orientation": "v",
         "showlegend": false,
         "type": "scatter",
         "x": [
          "2024-04-15T16:02:47",
          "2024-04-15T16:02:53",
          "2024-04-15T16:18:08",
          "2024-04-15T16:18:14",
          "2024-04-15T16:18:20",
          "2024-04-15T16:18:26",
          "2024-04-15T16:18:32",
          "2024-04-15T16:18:45",
          "2024-04-15T16:18:51",
          "2024-04-15T16:18:58",
          "2024-04-15T16:19:04",
          "2024-04-15T16:19:11",
          "2024-04-15T16:21:21",
          "2024-04-15T16:21:27",
          "2024-04-15T16:21:33",
          "2024-04-15T16:21:39",
          "2024-04-15T16:21:46",
          "2024-04-15T16:21:59",
          "2024-04-15T16:22:05",
          "2024-04-15T16:22:11",
          "2024-04-15T16:26:30",
          "2024-04-15T16:26:36",
          "2024-04-15T16:26:42",
          "2024-04-16T00:16:30",
          "2024-04-16T00:16:41",
          "2024-04-16T16:07:01",
          "2024-04-16T16:07:07",
          "2024-04-16T16:07:13",
          "2024-04-16T16:07:19",
          "2024-04-16T16:07:25",
          "2024-04-16T16:11:14",
          "2024-04-16T16:11:20",
          "2024-04-16T16:21:22",
          "2024-04-16T16:21:28",
          "2024-04-16T16:21:34",
          "2024-04-16T16:21:40",
          "2024-04-16T16:21:47",
          "2024-04-16T16:24:23",
          "2024-04-16T16:24:30",
          "2024-04-16T16:24:36",
          "2024-04-16T16:24:42",
          "2024-04-16T16:24:49",
          "2024-04-16T16:25:11",
          "2024-04-16T16:25:17",
          "2024-04-16T16:25:24"
         ],
         "xaxis": "x",
         "y": [
          89,
          89,
          89,
          89,
          89,
          89,
          89,
          89,
          89,
          89,
          89,
          89,
          89,
          89,
          89,
          89,
          89,
          89,
          89,
          89,
          89,
          89,
          89,
          89,
          89,
          69,
          70,
          69,
          70,
          71,
          67,
          68,
          67,
          68,
          69,
          69,
          68,
          70,
          70,
          70,
          70,
          71,
          70,
          70,
          71
         ],
         "yaxis": "y"
        }
       ],
       "layout": {
        "legend": {
         "tracegroupgap": 0
        },
        "margin": {
         "t": 60
        },
        "template": {
         "data": {
          "candlestick": [
           {
            "decreasing": {
             "line": {
              "color": "#000033"
             }
            },
            "increasing": {
             "line": {
              "color": "#000032"
             }
            },
            "type": "candlestick"
           }
          ],
          "contour": [
           {
            "colorscale": [
             [
              0,
              "#000011"
             ],
             [
              0.1111111111111111,
              "#000012"
             ],
             [
              0.2222222222222222,
              "#000013"
             ],
             [
              0.3333333333333333,
              "#000014"
             ],
             [
              0.4444444444444444,
              "#000015"
             ],
             [
              0.5555555555555556,
              "#000016"
             ],
             [
              0.6666666666666666,
              "#000017"
             ],
             [
              0.7777777777777778,
              "#000018"
             ],
             [
              0.8888888888888888,
              "#000019"
             ],
             [
              1,
              "#000020"
             ]
            ],
            "type": "contour"
           }
          ],
          "contourcarpet": [
           {
            "colorscale": [
             [
              0,
              "#000011"
             ],
             [
              0.1111111111111111,
              "#000012"
             ],
             [
              0.2222222222222222,
              "#000013"
             ],
             [
              0.3333333333333333,
              "#000014"
             ],
             [
              0.4444444444444444,
              "#000015"
             ],
             [
              0.5555555555555556,
              "#000016"
             ],
             [
              0.6666666666666666,
              "#000017"
             ],
             [
              0.7777777777777778,
              "#000018"
             ],
             [
              0.8888888888888888,
              "#000019"
             ],
             [
              1,
              "#000020"
             ]
            ],
            "type": "contourcarpet"
           }
          ],
          "heatmap": [
           {
            "colorscale": [
             [
              0,
              "#000011"
             ],
             [
              0.1111111111111111,
              "#000012"
             ],
             [
              0.2222222222222222,
              "#000013"
             ],
             [
              0.3333333333333333,
              "#000014"
             ],
             [
              0.4444444444444444,
              "#000015"
             ],
             [
              0.5555555555555556,
              "#000016"
             ],
             [
              0.6666666666666666,
              "#000017"
             ],
             [
              0.7777777777777778,
              "#000018"
             ],
             [
              0.8888888888888888,
              "#000019"
             ],
             [
              1,
              "#000020"
             ]
            ],
            "type": "heatmap"
           }
          ],
          "histogram2d": [
           {
            "colorscale": [
             [
              0,
              "#000011"
             ],
             [
              0.1111111111111111,
              "#000012"
             ],
             [
              0.2222222222222222,
              "#000013"
             ],
             [
              0.3333333333333333,
              "#000014"
             ],
             [
              0.4444444444444444,
              "#000015"
             ],
             [
              0.5555555555555556,
              "#000016"
             ],
             [
              0.6666666666666666,
              "#000017"
             ],
             [
              0.7777777777777778,
              "#000018"
             ],
             [
              0.8888888888888888,
              "#000019"
             ],
             [
              1,
              "#000020"
             ]
            ],
            "type": "histogram2d"
           }
          ],
          "icicle": [
           {
            "textfont": {
             "color": "white"
            },
            "type": "icicle"
           }
          ],
          "sankey": [
           {
            "textfont": {
             "color": "#000036"
            },
            "type": "sankey"
           }
          ],
          "scatter": [
           {
            "marker": {
             "line": {
              "width": 0
             }
            },
            "type": "scatter"
           }
          ],
          "table": [
           {
            "cells": {
             "fill": {
              "color": "#000038"
             },
             "font": {
              "color": "#000037"
             },
             "line": {
              "color": "#000039"
             }
            },
            "header": {
             "fill": {
              "color": "#000040"
             },
             "font": {
              "color": "#000036"
             },
             "line": {
              "color": "#000039"
             }
            },
            "type": "table"
           }
          ],
          "waterfall": [
           {
            "connector": {
             "line": {
              "color": "#000036",
              "width": 2
             }
            },
            "decreasing": {
             "marker": {
              "color": "#000033"
             }
            },
            "increasing": {
             "marker": {
              "color": "#000032"
             }
            },
            "totals": {
             "marker": {
              "color": "#000034"
             }
            },
            "type": "waterfall"
           }
          ]
         },
         "layout": {
          "coloraxis": {
           "colorscale": [
            [
             0,
             "#000011"
            ],
            [
             0.1111111111111111,
             "#000012"
            ],
            [
             0.2222222222222222,
             "#000013"
            ],
            [
             0.3333333333333333,
             "#000014"
            ],
            [
             0.4444444444444444,
             "#000015"
            ],
            [
             0.5555555555555556,
             "#000016"
            ],
            [
             0.6666666666666666,
             "#000017"
            ],
            [
             0.7777777777777778,
             "#000018"
            ],
            [
             0.8888888888888888,
             "#000019"
            ],
            [
             1,
             "#000020"
            ]
           ]
          },
          "colorscale": {
           "diverging": [
            [
             0,
             "#000021"
            ],
            [
             0.1,
             "#000022"
            ],
            [
             0.2,
             "#000023"
            ],
            [
             0.3,
             "#000024"
            ],
            [
             0.4,
             "#000025"
            ],
            [
             0.5,
             "#000026"
            ],
            [
             0.6,
             "#000027"
            ],
            [
             0.7,
             "#000028"
            ],
            [
             0.8,
             "#000029"
            ],
            [
             0.9,
             "#000030"
            ],
            [
             1,
             "#000031"
            ]
           ],
           "sequential": [
            [
             0,
             "#000011"
            ],
            [
             0.1111111111111111,
             "#000012"
            ],
            [
             0.2222222222222222,
             "#000013"
            ],
            [
             0.3333333333333333,
             "#000014"
            ],
            [
             0.4444444444444444,
             "#000015"
            ],
            [
             0.5555555555555556,
             "#000016"
            ],
            [
             0.6666666666666666,
             "#000017"
            ],
            [
             0.7777777777777778,
             "#000018"
            ],
            [
             0.8888888888888888,
             "#000019"
            ],
            [
             1,
             "#000020"
            ]
           ],
           "sequentialminus": [
            [
             0,
             "#000011"
            ],
            [
             0.1111111111111111,
             "#000012"
            ],
            [
             0.2222222222222222,
             "#000013"
            ],
            [
             0.3333333333333333,
             "#000014"
            ],
            [
             0.4444444444444444,
             "#000015"
            ],
            [
             0.5555555555555556,
             "#000016"
            ],
            [
             0.6666666666666666,
             "#000017"
            ],
            [
             0.7777777777777778,
             "#000018"
            ],
            [
             0.8888888888888888,
             "#000019"
            ],
            [
             1,
             "#000020"
            ]
           ]
          },
          "colorway": [
           "#000001",
           "#000002",
           "#000003",
           "#000004",
           "#000005",
           "#000006",
           "#000007",
           "#000008",
           "#000009",
           "#000010"
          ]
         }
        },
        "xaxis": {
         "anchor": "y",
         "domain": [
          0,
          1
         ],
         "title": {
          "text": "date"
         }
        },
        "yaxis": {
         "anchor": "x",
         "domain": [
          0,
          1
         ],
         "range": [
          0,
          100
         ],
         "title": {
          "text": "humidity"
         }
        }
       }
      }
     },
     "metadata": {},
     "output_type": "display_data"
    }
   ],
   "source": [
    "fig = px.line(\n",
    "                data_frame=df, y=\"humidity\", x=\"date\",range_y=[0,100]\n",
    ")\n",
    "fig.show()"
   ]
  },
  {
   "cell_type": "code",
   "execution_count": null,
   "metadata": {},
   "outputs": [],
   "source": []
  },
  {
   "cell_type": "code",
   "execution_count": null,
   "metadata": {},
   "outputs": [],
   "source": []
  }
 ],
 "metadata": {
  "kernelspec": {
   "display_name": "iot",
   "language": "python",
   "name": "python3"
  },
  "language_info": {
   "codemirror_mode": {
    "name": "ipython",
    "version": 3
   },
   "file_extension": ".py",
   "mimetype": "text/x-python",
   "name": "python",
   "nbconvert_exporter": "python",
   "pygments_lexer": "ipython3",
   "version": "3.12.2"
  }
 },
 "nbformat": 4,
 "nbformat_minor": 2
}
